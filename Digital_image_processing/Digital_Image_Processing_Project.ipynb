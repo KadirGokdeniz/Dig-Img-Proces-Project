{
 "cells": [
  {
   "cell_type": "code",
   "execution_count": 49,
   "metadata": {},
   "outputs": [],
   "source": [
    "import numpy as np\n",
    "import cv2\n",
    "from tkinter import *"
   ]
  },
  {
   "cell_type": "code",
   "execution_count": 50,
   "metadata": {},
   "outputs": [],
   "source": [
    "def similarity(new,original,sensivity):\n",
    "    list1=new.tolist()\n",
    "    size1=new.size\n",
    "    x=len(list1)\n",
    "    y=int(size1/x)\n",
    "    counter=0\n",
    "    range1=round(255/(int(sensivity)))\n",
    "    list2=original.tolist()\n",
    "    for i in range(0,x):\n",
    "        for j in range(0,y):\n",
    "            originalp=list2[i][j]\n",
    "            newp=list1[i][j]\n",
    "            if(originalp+range1>=newp and originalp-range1<=newp):\n",
    "                counter+=1\n",
    "    return round(counter*100/(x*y))"
   ]
  },
  {
   "cell_type": "code",
   "execution_count": 51,
   "metadata": {},
   "outputs": [],
   "source": [
    "def averageFilter(img,sensivity):\n",
    "    filepath=\"C:\\\\Users\\\\Asus F15\\\\Desktop\\\\1\\\\\"+img+\".jpg\"\n",
    "    original=cv2.imread(filepath,0)\n",
    "    original=cv2.resize(original,(450,450))\n",
    "    new=cv2.imread(filepath,0)\n",
    "    new=cv2.resize(new,(450,450))\n",
    "    converter=np.ones((5,5),np.float32)/25\n",
    "    new=cv2.filter2D(src=new,ddepth=-1,kernel=converter)\n",
    "    cv2.imshow(\"Original\",original)\n",
    "    cv2.imshow(\"Averaged\",new)\n",
    "    return similarity(new,original,sensivity)"
   ]
  },
  {
   "cell_type": "code",
   "execution_count": 52,
   "metadata": {},
   "outputs": [],
   "source": [
    "def sharpingFilter(img,sensivity):\n",
    "    filepath=\"C:\\\\Users\\\\Asus F15\\\\Desktop\\\\1\\\\\"+img+\".jpg\"\n",
    "    original=cv2.imread(filepath,0)\n",
    "    original=cv2.resize(original,(450,450))\n",
    "    new=cv2.imread(filepath,0)\n",
    "    new=cv2.resize(new,(450,450))\n",
    "    converter=np.array([[0,-1,0],[-1,5,-1],[0,-1,0]])\n",
    "    new=cv2.filter2D(src=new,ddepth=-1,kernel=converter)\n",
    "    cv2.imshow(\"Original\",original)\n",
    "    cv2.imshow(\"Sharpened\",new)\n",
    "    return similarity(new,original,sensivity)"
   ]
  },
  {
   "cell_type": "code",
   "execution_count": 53,
   "metadata": {},
   "outputs": [],
   "source": [
    "def negativeFilter(img,sensivity):\n",
    "    filepath=\"C:\\\\Users\\\\Asus F15\\\\Desktop\\\\1\\\\\"+img+\".jpg\"\n",
    "    original=cv2.imread(filepath,0)\n",
    "    original=cv2.resize(original,(450,450))\n",
    "    new=cv2.imread(filepath,0)\n",
    "    new=cv2.resize(new,(450,450))\n",
    "    new=255-original\n",
    "    cv2.imshow(\"Original\",original)\n",
    "    cv2.imshow(\"Negative Filter\",new)\n",
    "    return similarity(new,original,sensivity)"
   ]
  },
  {
   "cell_type": "code",
   "execution_count": 54,
   "metadata": {},
   "outputs": [],
   "source": [
    "def LaplaicanFilter(img,sensivity):\n",
    "    filepath=\"C:\\\\Users\\\\Asus F15\\\\Desktop\\\\1\\\\\"+img+\".jpg\"\n",
    "    original=cv2.imread(filepath,0)\n",
    "    original=cv2.resize(original,(450,450))\n",
    "    new=cv2.imread(filepath,0)\n",
    "    new=cv2.resize(new,(450,450))\n",
    "    converter=np.array([[0,1,0],[1,-4,1],[0,1,0]])\n",
    "    new=cv2.filter2D(src=new,ddepth=-1,kernel=converter)\n",
    "    cv2.imshow(\"Original\",original)\n",
    "    cv2.imshow(\"Laplacian Image\",new)\n",
    "    return similarity(new,original,sensivity)"
   ]
  },
  {
   "cell_type": "code",
   "execution_count": 55,
   "metadata": {},
   "outputs": [],
   "source": [
    "def logarithmFilter(img,sensivity):\n",
    "    filepath=\"C:\\\\Users\\\\Asus F15\\\\Desktop\\\\1\\\\\"+img+\".jpg\"\n",
    "    original=cv2.imread(filepath,0)\n",
    "    original=cv2.resize(original,(450,450))\n",
    "    new=cv2.imread(filepath,0)\n",
    "    new=cv2.resize(new,(450,450))\n",
    "    new=np.uint8(np.log1p(new))\n",
    "    numb=1\n",
    "    new=cv2.threshold(new,numb,255,cv2.THRESH_BINARY)[1]\n",
    "    cv2.imshow(\"Original\",original)\n",
    "    cv2.imshow(\"Logarithm Image\",new)\n",
    "    return similarity(new,original,sensivity)"
   ]
  },
  {
   "cell_type": "code",
   "execution_count": 56,
   "metadata": {},
   "outputs": [],
   "source": [
    "window=Tk()\n",
    "window.title(\"Image Project\")\n",
    "window.geometry('690x200')\n",
    "\n",
    "label1=Label(window,text='Number of image:(1 to 5)',fg='blue',font=('Arial',13))\n",
    "label1.grid(row=0,column=0,padx=5,pady=5)\n",
    "\n",
    "string1=StringVar()\n",
    "entry1=Entry(window,width=20,textvariable=string1)\n",
    "entry1.grid(row=0,column=1,padx=30,pady=5)\n",
    "\n",
    "label2=Label(window,text='Filter: Average, Negative, Sharpen, Laplacian, Logarithm:',fg='blue',font=('Arial',13))\n",
    "label2.grid(row=1,column=0,padx=5,pady=5)\n",
    "\n",
    "string2=StringVar()\n",
    "entry2=Entry(window,width=20,textvariable=string2)\n",
    "entry2.grid(row=1,column=1,padx=5,pady=5)\n",
    "\n",
    "label3=Label(window,text='Sensivity for comparison:(1,2,4,16,32,64,128,255)',fg='blue',font=(('Arial',13)))\n",
    "label3.grid(row=3,column=0,padx=5,pady=5)\n",
    "\n",
    "string3=StringVar()\n",
    "entry3=Entry(window,width=20,textvariable=string3)\n",
    "entry3.grid(row=3,column=1,padx=5,pady=5)\n",
    "\n",
    "label4=Label(window,text=\"Similarity\", fg='purple',font=('Arial',13))\n",
    "label4.grid(row=5,column=0,padx=5,pady=5)\n",
    "\n",
    "string4=StringVar()\n",
    "sens=Entry(window,width=20,state=\"readonly\",textvariable=string4)\n",
    "sens.grid(row=5,column=1,padx=5,pady=5)\n",
    "\n",
    "def startFunction():\n",
    "    if string2.get()==\"Average\":\n",
    "        result=averageFilter(string1.get(),string3.get())\n",
    "        string4.set('%'+str(result))\n",
    "    if string2.get()==\"Negative\":\n",
    "        result=negativeFilter(string1.get(),string3.get())\n",
    "        string4.set('%'+str(result))\n",
    "    if string2.get()==\"Sharpen\":\n",
    "        result=sharpingFilter(string1.get(),string3.get())\n",
    "        string4.set('%'+str(result))\n",
    "    if string2.get()==\"Laplacian\":\n",
    "        result=LaplaicanFilter(string1.get(),string3.get())\n",
    "        string4.set('%'+str(result))\n",
    "    if string2.get()==\"Logarithm\":\n",
    "        result=logarithmFilter(string1.get(),string3.get())\n",
    "        string4.set('%'+str(result))\n",
    "\n",
    "button1=Button(window,text='Start',fg='green',font=('Arial',13),command=startFunction)\n",
    "button1.grid(row=4,column=1,sticky=W)\n",
    "window.mainloop()"
   ]
  }
 ],
 "metadata": {
  "kernelspec": {
   "display_name": "base",
   "language": "python",
   "name": "python3"
  },
  "language_info": {
   "codemirror_mode": {
    "name": "ipython",
    "version": 3
   },
   "file_extension": ".py",
   "mimetype": "text/x-python",
   "name": "python",
   "nbconvert_exporter": "python",
   "pygments_lexer": "ipython3",
   "version": "3.8.8 (default, Apr 13 2021, 15:08:03) [MSC v.1916 64 bit (AMD64)]"
  },
  "orig_nbformat": 4,
  "vscode": {
   "interpreter": {
    "hash": "31e7dfc2969fa87bf720ade5ac397f3605b46dbf0ac40dfddea2a134031374cf"
   }
  }
 },
 "nbformat": 4,
 "nbformat_minor": 2
}
